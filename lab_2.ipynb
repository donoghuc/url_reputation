{
 "cells": [
  {
   "cell_type": "code",
   "execution_count": 24,
   "metadata": {},
   "outputs": [
    {
     "data": {
      "text/html": [
       "<script>\n",
       "code_show=true; \n",
       "function code_toggle() {\n",
       " if (code_show){\n",
       " $('div.input').hide();\n",
       " } else {\n",
       " $('div.input').show();\n",
       " }\n",
       " code_show = !code_show\n",
       "} \n",
       "$( document ).ready(code_toggle);\n",
       "</script>\n",
       "To toggle on/off the underlying python code, click <a href=\"javascript:code_toggle()\">here</a>."
      ],
      "text/plain": [
       "<IPython.core.display.HTML object>"
      ]
     },
     "execution_count": 24,
     "metadata": {},
     "output_type": "execute_result"
    }
   ],
   "source": [
    "from IPython.display import HTML\n",
    "HTML('''<script>\n",
    "code_show=true; \n",
    "function code_toggle() {\n",
    " if (code_show){\n",
    " $('div.input').hide();\n",
    " } else {\n",
    " $('div.input').show();\n",
    " }\n",
    " code_show = !code_show\n",
    "} \n",
    "$( document ).ready(code_toggle);\n",
    "</script>\n",
    "To toggle on/off the underlying python code, click <a href=\"javascript:code_toggle()\">here</a>.''')"
   ]
  },
  {
   "cell_type": "code",
   "execution_count": 20,
   "metadata": {},
   "outputs": [],
   "source": [
    "import json, sys, getopt, os, codecs\n",
    "import pandas as pd\n",
    "%matplotlib inline\n",
    "import matplotlib.pyplot as plt\n",
    "import seaborn as sns\n",
    "\n",
    "def usage():\n",
    "    print(\"Usage: %s --file=[filename]\" % sys.argv[0])\n",
    "    sys.exit()\n",
    "\n",
    "def get_target_file(file=None):\n",
    "    ''' this is the algorithm provided for parser. would use argparse personally...'''\n",
    "    if not file:\n",
    "        file=''\n",
    "        myopts, args = getopt.getopt(sys.argv[1:], \"\", [\"file=\"])\n",
    "\n",
    "        for o, a in myopts:\n",
    "            if o in ('-f, --file'):\n",
    "                file=a\n",
    "            else:\n",
    "                usage()\n",
    "\n",
    "        if len(file) == 0:\n",
    "            usage()\n",
    "\n",
    "    return file\n",
    "\n",
    "def make_dataframe(file):\n",
    "    '''build a dataframe from JSON input'''\n",
    "    # read the target file\n",
    "    with codecs.open(file, \"r\", encoding='utf-8', errors='ignore') as fdata:\n",
    "        urldata = json.load(fdata)\n",
    "    # build a dataframe\n",
    "    build_frame = dict(query=[],\n",
    "                    malicious_url=[],\n",
    "                    port=[],\n",
    "                    host_len=[],\n",
    "                    file_extension=[],\n",
    "                    path=[],\n",
    "                    scheme=[],\n",
    "                    domain_age_days=[],\n",
    "                    path_tokens=[],\n",
    "                    domain_tokens=[],\n",
    "                    tld=[],\n",
    "                    ips=[],\n",
    "                    mxhosts=[],\n",
    "                    registered_domain=[],\n",
    "                    alexa_rank=[],\n",
    "                    fragment=[],\n",
    "                    host=[],\n",
    "                    url_len=[],\n",
    "                    num_path_tokens=[],\n",
    "                    path_len=[],\n",
    "                    num_domain_tokens=[],\n",
    "                    default_port=[],\n",
    "                    url=[])\n",
    "    \n",
    "    for record in urldata:\n",
    "        for k in build_frame.keys():\n",
    "            build_frame[k].append(record.get(k,\"NA\"))\n",
    "    \n",
    "    return pd.DataFrame(build_frame)\n",
    "\n",
    "def clean_df(df):\n",
    "    ''' make sure numeric rows are integers'''\n",
    "    df['alexa_rank'] = df['alexa_rank'].map(lambda x: int(x) if x else 0)\n",
    "    df['domain_age_days'] = df['domain_age_days'].map(lambda x: int(x) if x else 0)\n",
    "    df['host_len'] = df['host_len'].map(lambda x: int(x) if x else 0)\n",
    "    df['malicious_url'] = df['malicious_url'].map(lambda x: int(x) if x else 0)\n",
    "    df['path_len'] = df['path_len'].map(lambda x: int(x) if x else 0)\n",
    "    df['url_len'] = df['url_len'].map(lambda x: int(x) if x else 0)\n",
    "    return df\n",
    "\n",
    "def numeric_analytics(df, col):\n",
    "    ''' look at distribution of numeric column'''\n",
    "    print('Non malicous {}'.format(col))\n",
    "    print(df.loc[df['malicious_url'] == 0][col].describe())\n",
    "    print('\\nMalicious {}'.format(col))\n",
    "    print(df.loc[df['malicious_url'] == 1][col].describe())\n",
    "    fig, ax = plt.subplots()\n",
    "    fig.set_size_inches(11.7, 8.27)\n",
    "    ax = sns.boxplot(x='malicious_url', y=col, data=df)\n",
    "    plt.show()\n",
    "    \n",
    "def unique_value_counts(df, col):\n",
    "    '''look at 10 most popular unique values plus counts'''\n",
    "    print(\"Non Malicious\")\n",
    "    print(df.loc[df['malicious_url'] == 0][col].value_counts()[:10])\n",
    "    print(\"Malicious\")\n",
    "    print(df.loc[df['malicious_url'] == 1][col].value_counts()[:10])\n",
    "    \n",
    "def top_ips(df):\n",
    "    ''' get top stats for IP info'''\n",
    "    geo_dict = dict()\n",
    "    ip_dict = dict()\n",
    "    type_dict = dict()\n",
    "\n",
    "    for i,l in df['ips'].iteritems():\n",
    "        try:\n",
    "            for v in l:\n",
    "                if v.get('geo',None) in geo_dict.keys():\n",
    "                    geo_dict[v.get('geo')] += 1\n",
    "                elif v.get('geo',None):\n",
    "                    geo_dict[v.get('geo')] = 1\n",
    "\n",
    "                if v.get('ip',None) in ip_dict.keys():\n",
    "                    ip_dict[v.get('ip')] += 1\n",
    "                elif v.get('ip',None):\n",
    "                    ip_dict[v.get('ip')] = 1\n",
    "\n",
    "                if v.get('type',None) in type_dict.keys():\n",
    "                    type_dict[v.get('type')] += 1\n",
    "                elif v.get('type',None):\n",
    "                    type_dict[v.get('type')] = 1\n",
    "        except:\n",
    "            pass\n",
    "\n",
    "    print(\"top ten IP geo\")      \n",
    "    for i in [(k, geo_dict[k]) for k in sorted(geo_dict, key=geo_dict.get, reverse=True)][:10]:\n",
    "        print(i)\n",
    "    print(\"top ten IP\")      \n",
    "    for i in [(k, ip_dict[k]) for k in sorted(ip_dict, key=ip_dict.get, reverse=True)][:10]:\n",
    "        print(i)\n",
    "    print(\"top ten IP type\")      \n",
    "    for i in [(k, type_dict[k]) for k in sorted(type_dict, key=type_dict.get, reverse=True)][:10]:\n",
    "        print(i)\n",
    "\n",
    "def top_domain_tokens(df):\n",
    "    ''' get stats for domain token freq'''\n",
    "    domain_token_dict = dict()\n",
    "    for i,v in df['domain_tokens'].iteritems():\n",
    "        for it in v:\n",
    "            if it in domain_token_dict.keys():\n",
    "                domain_token_dict[it] += 1\n",
    "            else:\n",
    "                domain_token_dict[it] = 1\n",
    "    print(\"top ten domain tokens\")      \n",
    "    for i in [(k, domain_token_dict[k]) for k in sorted(domain_token_dict, key=domain_token_dict.get, reverse=True)][:10]:\n",
    "        print(i)"
   ]
  },
  {
   "cell_type": "markdown",
   "metadata": {},
   "source": [
    "## read in training data and clean it up\n"
   ]
  },
  {
   "cell_type": "code",
   "execution_count": 2,
   "metadata": {},
   "outputs": [
    {
     "data": {
      "text/html": [
       "<div>\n",
       "<style scoped>\n",
       "    .dataframe tbody tr th:only-of-type {\n",
       "        vertical-align: middle;\n",
       "    }\n",
       "\n",
       "    .dataframe tbody tr th {\n",
       "        vertical-align: top;\n",
       "    }\n",
       "\n",
       "    .dataframe thead th {\n",
       "        text-align: right;\n",
       "    }\n",
       "</style>\n",
       "<table border=\"1\" class=\"dataframe\">\n",
       "  <thead>\n",
       "    <tr style=\"text-align: right;\">\n",
       "      <th></th>\n",
       "      <th>alexa_rank</th>\n",
       "      <th>default_port</th>\n",
       "      <th>domain_age_days</th>\n",
       "      <th>domain_tokens</th>\n",
       "      <th>file_extension</th>\n",
       "      <th>fragment</th>\n",
       "      <th>host</th>\n",
       "      <th>host_len</th>\n",
       "      <th>ips</th>\n",
       "      <th>malicious_url</th>\n",
       "      <th>...</th>\n",
       "      <th>path</th>\n",
       "      <th>path_len</th>\n",
       "      <th>path_tokens</th>\n",
       "      <th>port</th>\n",
       "      <th>query</th>\n",
       "      <th>registered_domain</th>\n",
       "      <th>scheme</th>\n",
       "      <th>tld</th>\n",
       "      <th>url</th>\n",
       "      <th>url_len</th>\n",
       "    </tr>\n",
       "  </thead>\n",
       "  <tbody>\n",
       "    <tr>\n",
       "      <th>0</th>\n",
       "      <td>25523</td>\n",
       "      <td>80</td>\n",
       "      <td>5621</td>\n",
       "      <td>[www, oppo, com]</td>\n",
       "      <td>None</td>\n",
       "      <td>None</td>\n",
       "      <td>www.oppo.com</td>\n",
       "      <td>12</td>\n",
       "      <td>[{'geo': 'CN', 'ip': '115.236.98.124', 'type':...</td>\n",
       "      <td>0</td>\n",
       "      <td>...</td>\n",
       "      <td>/</td>\n",
       "      <td>1</td>\n",
       "      <td>[]</td>\n",
       "      <td>80</td>\n",
       "      <td>utm_source=WeiBo&amp;amp;utm_medium=OPPO&amp;amp;utm_c...</td>\n",
       "      <td>oppo.com</td>\n",
       "      <td>http</td>\n",
       "      <td>com</td>\n",
       "      <td>http://www.oppo.com/?utm_source=WeiBo&amp;amp;utm_...</td>\n",
       "      <td>84</td>\n",
       "    </tr>\n",
       "    <tr>\n",
       "      <th>1</th>\n",
       "      <td>0</td>\n",
       "      <td>80</td>\n",
       "      <td>172</td>\n",
       "      <td>[googledrive, royal-moments, com]</td>\n",
       "      <td>None</td>\n",
       "      <td>None</td>\n",
       "      <td>googledrive.royal-moments.com</td>\n",
       "      <td>29</td>\n",
       "      <td>[{'geo': 'NL', 'ip': '5.39.220.76', 'type': 'A'}]</td>\n",
       "      <td>1</td>\n",
       "      <td>...</td>\n",
       "      <td>/docs/docs/googledocs/</td>\n",
       "      <td>22</td>\n",
       "      <td>[docs, docs, googledocs, ]</td>\n",
       "      <td>80</td>\n",
       "      <td>None</td>\n",
       "      <td>royal-moments.com</td>\n",
       "      <td>http</td>\n",
       "      <td>com</td>\n",
       "      <td>http://googledrive.royal-moments.com/docs/docs...</td>\n",
       "      <td>58</td>\n",
       "    </tr>\n",
       "    <tr>\n",
       "      <th>2</th>\n",
       "      <td>0</td>\n",
       "      <td>80</td>\n",
       "      <td>9</td>\n",
       "      <td>[www, coinbase, com, agreement, advicecm, com]</td>\n",
       "      <td>None</td>\n",
       "      <td>None</td>\n",
       "      <td>www.coinbase.com.agreement.advicecm.com</td>\n",
       "      <td>39</td>\n",
       "      <td>[{'geo': 'NL', 'ip': '46.21.161.247', 'type': ...</td>\n",
       "      <td>1</td>\n",
       "      <td>...</td>\n",
       "      <td>/wallet</td>\n",
       "      <td>7</td>\n",
       "      <td>[wallet]</td>\n",
       "      <td>80</td>\n",
       "      <td>None</td>\n",
       "      <td>advicecm.com</td>\n",
       "      <td>http</td>\n",
       "      <td>com</td>\n",
       "      <td>http://www.coinbase.com.agreement.advicecm.com...</td>\n",
       "      <td>53</td>\n",
       "    </tr>\n",
       "    <tr>\n",
       "      <th>3</th>\n",
       "      <td>0</td>\n",
       "      <td>80</td>\n",
       "      <td>22</td>\n",
       "      <td>[eu, battle, net, blizzardentertainmentfreeofa...</td>\n",
       "      <td>htm</td>\n",
       "      <td>None</td>\n",
       "      <td>eu.battle.net.blizzardentertainmentfreeofactiv...</td>\n",
       "      <td>56</td>\n",
       "      <td>[{'geo': 'HK', 'ip': '122.10.94.86', 'type': '...</td>\n",
       "      <td>1</td>\n",
       "      <td>...</td>\n",
       "      <td>/login/14.htm</td>\n",
       "      <td>13</td>\n",
       "      <td>[login, 14.htm]</td>\n",
       "      <td>80</td>\n",
       "      <td>None</td>\n",
       "      <td>blizzardentertainmentfreeofactivitiese.com</td>\n",
       "      <td>http</td>\n",
       "      <td>com</td>\n",
       "      <td>http://eu.battle.net.blizzardentertainmentfree...</td>\n",
       "      <td>76</td>\n",
       "    </tr>\n",
       "    <tr>\n",
       "      <th>4</th>\n",
       "      <td>8</td>\n",
       "      <td>443</td>\n",
       "      <td>840</td>\n",
       "      <td>[business, twitter, com]</td>\n",
       "      <td>None</td>\n",
       "      <td>None</td>\n",
       "      <td>business.twitter.com</td>\n",
       "      <td>20</td>\n",
       "      <td>[{'geo': 'US', 'ip': '199.59.149.243', 'type':...</td>\n",
       "      <td>0</td>\n",
       "      <td>...</td>\n",
       "      <td>/twitter-101</td>\n",
       "      <td>12</td>\n",
       "      <td>[twitter-101]</td>\n",
       "      <td>443</td>\n",
       "      <td>None</td>\n",
       "      <td>twitter.com</td>\n",
       "      <td>https</td>\n",
       "      <td>com</td>\n",
       "      <td>https://business.twitter.com/twitter-101</td>\n",
       "      <td>40</td>\n",
       "    </tr>\n",
       "  </tbody>\n",
       "</table>\n",
       "<p>5 rows × 23 columns</p>\n",
       "</div>"
      ],
      "text/plain": [
       "   alexa_rank  default_port  domain_age_days  \\\n",
       "0       25523            80             5621   \n",
       "1           0            80              172   \n",
       "2           0            80                9   \n",
       "3           0            80               22   \n",
       "4           8           443              840   \n",
       "\n",
       "                                       domain_tokens file_extension fragment  \\\n",
       "0                                   [www, oppo, com]           None     None   \n",
       "1                  [googledrive, royal-moments, com]           None     None   \n",
       "2     [www, coinbase, com, agreement, advicecm, com]           None     None   \n",
       "3  [eu, battle, net, blizzardentertainmentfreeofa...            htm     None   \n",
       "4                           [business, twitter, com]           None     None   \n",
       "\n",
       "                                                host  host_len  \\\n",
       "0                                       www.oppo.com        12   \n",
       "1                      googledrive.royal-moments.com        29   \n",
       "2            www.coinbase.com.agreement.advicecm.com        39   \n",
       "3  eu.battle.net.blizzardentertainmentfreeofactiv...        56   \n",
       "4                               business.twitter.com        20   \n",
       "\n",
       "                                                 ips  malicious_url   ...    \\\n",
       "0  [{'geo': 'CN', 'ip': '115.236.98.124', 'type':...              0   ...     \n",
       "1  [{'geo': 'NL', 'ip': '5.39.220.76', 'type': 'A'}]              1   ...     \n",
       "2  [{'geo': 'NL', 'ip': '46.21.161.247', 'type': ...              1   ...     \n",
       "3  [{'geo': 'HK', 'ip': '122.10.94.86', 'type': '...              1   ...     \n",
       "4  [{'geo': 'US', 'ip': '199.59.149.243', 'type':...              0   ...     \n",
       "\n",
       "                     path  path_len                 path_tokens port  \\\n",
       "0                       /         1                          []   80   \n",
       "1  /docs/docs/googledocs/        22  [docs, docs, googledocs, ]   80   \n",
       "2                 /wallet         7                    [wallet]   80   \n",
       "3           /login/14.htm        13             [login, 14.htm]   80   \n",
       "4            /twitter-101        12               [twitter-101]  443   \n",
       "\n",
       "                                               query  \\\n",
       "0  utm_source=WeiBo&amp;utm_medium=OPPO&amp;utm_c...   \n",
       "1                                               None   \n",
       "2                                               None   \n",
       "3                                               None   \n",
       "4                                               None   \n",
       "\n",
       "                            registered_domain scheme  tld  \\\n",
       "0                                    oppo.com   http  com   \n",
       "1                           royal-moments.com   http  com   \n",
       "2                                advicecm.com   http  com   \n",
       "3  blizzardentertainmentfreeofactivitiese.com   http  com   \n",
       "4                                 twitter.com  https  com   \n",
       "\n",
       "                                                 url url_len  \n",
       "0  http://www.oppo.com/?utm_source=WeiBo&amp;utm_...      84  \n",
       "1  http://googledrive.royal-moments.com/docs/docs...      58  \n",
       "2  http://www.coinbase.com.agreement.advicecm.com...      53  \n",
       "3  http://eu.battle.net.blizzardentertainmentfree...      76  \n",
       "4           https://business.twitter.com/twitter-101      40  \n",
       "\n",
       "[5 rows x 23 columns]"
      ]
     },
     "execution_count": 2,
     "metadata": {},
     "output_type": "execute_result"
    }
   ],
   "source": [
    "file = get_target_file(\"train.json\")\n",
    "df = make_dataframe(file)\n",
    "df = clean_df(df)\n",
    "df.head()"
   ]
  },
  {
   "cell_type": "markdown",
   "metadata": {},
   "source": [
    "## Look at numeric distributions"
   ]
  },
  {
   "cell_type": "code",
   "execution_count": 3,
   "metadata": {},
   "outputs": [
    {
     "name": "stdout",
     "output_type": "stream",
     "text": [
      "Non malicous alexa_rank\n",
      "count     1072.000000\n",
      "mean      5864.299440\n",
      "std      14435.315558\n",
      "min          0.000000\n",
      "25%         19.000000\n",
      "50%         51.000000\n",
      "75%       3129.250000\n",
      "max      92922.000000\n",
      "Name: alexa_rank, dtype: float64\n",
      "\n",
      "Malicious alexa_rank\n",
      "count       934.000000\n",
      "mean      44616.309422\n",
      "std      148827.037910\n",
      "min           0.000000\n",
      "25%           0.000000\n",
      "50%           0.000000\n",
      "75%           0.000000\n",
      "max      950889.000000\n",
      "Name: alexa_rank, dtype: float64\n"
     ]
    },
    {
     "data": {
      "image/png": "[encoded data removed]",
      "text/plain": [
       "<matplotlib.figure.Figure at 0x7f6021d33eb8>"
      ]
     },
     "metadata": {},
     "output_type": "display_data"
    }
   ],
   "source": [
    "numeric_analytics(df, 'alexa_rank')"
   ]
  },
  {
   "cell_type": "code",
   "execution_count": 4,
   "metadata": {},
   "outputs": [
    {
     "name": "stdout",
     "output_type": "stream",
     "text": [
      "Non malicous domain_age_days\n",
      "count     1072.000000\n",
      "mean      2728.527052\n",
      "std       2836.811434\n",
      "min        449.000000\n",
      "25%        895.500000\n",
      "50%       1127.000000\n",
      "75%       4235.000000\n",
      "max      16198.000000\n",
      "Name: domain_age_days, dtype: float64\n",
      "\n",
      "Malicious domain_age_days\n",
      "count      934.00000\n",
      "mean      -151.90257\n",
      "std       1486.50229\n",
      "min     -16435.00000\n",
      "25%         22.25000\n",
      "50%         47.00000\n",
      "75%         73.00000\n",
      "max        365.00000\n",
      "Name: domain_age_days, dtype: float64\n"
     ]
    },
    {
     "data": {
      "image/png": "[encoded data removed]",
      "text/plain": [
       "<matplotlib.figure.Figure at 0x7f602202c1d0>"
      ]
     },
     "metadata": {},
     "output_type": "display_data"
    }
   ],
   "source": [
    "numeric_analytics(df, 'domain_age_days')"
   ]
  },
  {
   "cell_type": "code",
   "execution_count": 5,
   "metadata": {},
   "outputs": [
    {
     "name": "stdout",
     "output_type": "stream",
     "text": [
      "Non malicous host_len\n",
      "count    1072.000000\n",
      "mean       18.320896\n",
      "std         6.052957\n",
      "min         6.000000\n",
      "25%        14.000000\n",
      "50%        17.000000\n",
      "75%        21.000000\n",
      "max        65.000000\n",
      "Name: host_len, dtype: float64\n",
      "\n",
      "Malicious host_len\n",
      "count    934.000000\n",
      "mean      23.396146\n",
      "std       18.204902\n",
      "min        6.000000\n",
      "25%       15.000000\n",
      "50%       19.000000\n",
      "75%       25.000000\n",
      "max      185.000000\n",
      "Name: host_len, dtype: float64\n"
     ]
    },
    {
     "data": {
      "image/png": "[encoded data removed]",
      "text/plain": [
       "<matplotlib.figure.Figure at 0x7f60583dbdd8>"
      ]
     },
     "metadata": {},
     "output_type": "display_data"
    }
   ],
   "source": [
    "numeric_analytics(df, 'host_len')"
   ]
  },
  {
   "cell_type": "code",
   "execution_count": 6,
   "metadata": {},
   "outputs": [
    {
     "name": "stdout",
     "output_type": "stream",
     "text": [
      "Non malicous path_len\n",
      "count    1072.000000\n",
      "mean       22.620336\n",
      "std        25.331499\n",
      "min         1.000000\n",
      "25%         3.000000\n",
      "50%        16.000000\n",
      "75%        32.000000\n",
      "max       215.000000\n",
      "Name: path_len, dtype: float64\n",
      "\n",
      "Malicious path_len\n",
      "count    934.000000\n",
      "mean      27.165953\n",
      "std       27.351651\n",
      "min        1.000000\n",
      "25%        9.000000\n",
      "50%       20.000000\n",
      "75%       38.000000\n",
      "max      292.000000\n",
      "Name: path_len, dtype: float64\n"
     ]
    },
    {
     "data": {
      "image/png": "[encoded data removed]",
      "text/plain": [
       "<matplotlib.figure.Figure at 0x7f6021bbc940>"
      ]
     },
     "metadata": {},
     "output_type": "display_data"
    }
   ],
   "source": [
    "numeric_analytics(df, 'path_len')"
   ]
  },
  {
   "cell_type": "code",
   "execution_count": 7,
   "metadata": {},
   "outputs": [
    {
     "name": "stdout",
     "output_type": "stream",
     "text": [
      "Non malicous url_len\n",
      "count    1072.000000\n",
      "mean       59.816231\n",
      "std        45.911708\n",
      "min        14.000000\n",
      "25%        32.000000\n",
      "50%        48.000000\n",
      "75%        72.000000\n",
      "max       573.000000\n",
      "Name: url_len, dtype: float64\n",
      "\n",
      "Malicious url_len\n",
      "count     934.00000\n",
      "mean       69.67666\n",
      "std        60.60768\n",
      "min        16.00000\n",
      "25%        38.00000\n",
      "50%        54.00000\n",
      "75%        79.00000\n",
      "max      1249.00000\n",
      "Name: url_len, dtype: float64\n"
     ]
    },
    {
     "data": {
      "image/png": "[encoded data removed]",
      "text/plain": [
       "<matplotlib.figure.Figure at 0x7f6021adcdd8>"
      ]
     },
     "metadata": {},
     "output_type": "display_data"
    }
   ],
   "source": [
    "numeric_analytics(df, 'url_len')"
   ]
  },
  {
   "cell_type": "code",
   "execution_count": 8,
   "metadata": {},
   "outputs": [
    {
     "name": "stdout",
     "output_type": "stream",
     "text": [
      "Non Malicious\n",
      "80     973\n",
      "443     99\n",
      "Name: default_port, dtype: int64\n",
      "Malicious\n",
      "80     930\n",
      "443      3\n",
      "21       1\n",
      "Name: default_port, dtype: int64\n"
     ]
    }
   ],
   "source": [
    "unique_value_counts(df, 'default_port')"
   ]
  },
  {
   "cell_type": "code",
   "execution_count": 9,
   "metadata": {},
   "outputs": [
    {
     "name": "stdout",
     "output_type": "stream",
     "text": [
      "Non Malicious\n",
      "js      172\n",
      "html     60\n",
      "css      46\n",
      "php      36\n",
      "htm      25\n",
      "mp4      18\n",
      "aspx     17\n",
      "jpeg     17\n",
      "xml      15\n",
      "flv      11\n",
      "Name: file_extension, dtype: int64\n",
      "Malicious\n",
      "php     170\n",
      "htm     127\n",
      "html    125\n",
      "exe      10\n",
      "asp       8\n",
      "cgi       4\n",
      "js        4\n",
      "zip       4\n",
      "swf       3\n",
      "de        2\n",
      "Name: file_extension, dtype: int64\n"
     ]
    }
   ],
   "source": [
    "unique_value_counts(df, 'file_extension')"
   ]
  },
  {
   "cell_type": "code",
   "execution_count": 10,
   "metadata": {},
   "outputs": [
    {
     "name": "stdout",
     "output_type": "stream",
     "text": [
      "Non Malicious\n",
      "http     973\n",
      "https     99\n",
      "Name: scheme, dtype: int64\n",
      "Malicious\n",
      "http     930\n",
      "https      3\n",
      "ftp        1\n",
      "Name: scheme, dtype: int64\n"
     ]
    }
   ],
   "source": [
    "unique_value_counts(df, 'scheme')"
   ]
  },
  {
   "cell_type": "code",
   "execution_count": 11,
   "metadata": {},
   "outputs": [
    {
     "name": "stdout",
     "output_type": "stream",
     "text": [
      "Non Malicious\n",
      "com    748\n",
      "cn     112\n",
      "jp     101\n",
      "net     34\n",
      "org     29\n",
      "uk       7\n",
      "hk       7\n",
      "tw       6\n",
      "me       3\n",
      "de       3\n",
      "Name: tld, dtype: int64\n",
      "Malicious\n",
      "com    346\n",
      "net     45\n",
      "it      25\n",
      "br      24\n",
      "de      24\n",
      "cl      23\n",
      "au      22\n",
      "org     18\n",
      "lv      17\n",
      "ar      14\n",
      "Name: tld, dtype: int64\n"
     ]
    }
   ],
   "source": [
    "unique_value_counts(df, 'tld')"
   ]
  },
  {
   "cell_type": "code",
   "execution_count": 12,
   "metadata": {},
   "outputs": [
    {
     "name": "stdout",
     "output_type": "stream",
     "text": [
      "top ten IP geo\n",
      "('US', 523)\n",
      "('DE', 67)\n",
      "('TR', 40)\n",
      "('FR', 36)\n",
      "('IT', 30)\n",
      "('NL', 25)\n",
      "('HK', 24)\n",
      "('GB', 13)\n",
      "('VG', 12)\n",
      "('CL', 11)\n",
      "top ten IP\n",
      "('67.215.65.133', 258)\n",
      "('178.210.162.252', 19)\n",
      "('188.40.70.29', 15)\n",
      "('188.40.70.27', 15)\n",
      "('178.33.152.221', 11)\n",
      "('198.105.254.11', 9)\n",
      "('122.10.94.86', 8)\n",
      "('188.40.117.12', 8)\n",
      "('46.21.161.247', 7)\n",
      "('81.88.48.95', 6)\n",
      "top ten IP type\n",
      "('A', 936)\n",
      "('AAAA', 21)\n"
     ]
    }
   ],
   "source": [
    "top_ips(df.loc[df['malicious_url'] == 1])"
   ]
  },
  {
   "cell_type": "code",
   "execution_count": 13,
   "metadata": {},
   "outputs": [
    {
     "name": "stdout",
     "output_type": "stream",
     "text": [
      "top ten IP geo\n",
      "('US', 1607)\n",
      "('CN', 799)\n",
      "('JP', 152)\n",
      "('TW', 28)\n",
      "('HK', 25)\n",
      "('RU', 15)\n",
      "('AU', 12)\n",
      "('GB', 11)\n",
      "('IE', 8)\n",
      "('NL', 8)\n",
      "top ten IP\n",
      "('125.39.191.182', 34)\n",
      "('182.118.77.70', 34)\n",
      "('119.188.139.148', 33)\n",
      "('61.240.135.14', 33)\n",
      "('182.118.77.67', 33)\n",
      "('182.118.77.62', 33)\n",
      "('182.118.77.54', 33)\n",
      "('119.188.139.100', 32)\n",
      "('61.240.135.48', 32)\n",
      "('182.118.12.166', 32)\n",
      "top ten IP type\n",
      "('A', 2607)\n",
      "('AAAA', 104)\n"
     ]
    }
   ],
   "source": [
    "top_ips(df.loc[df['malicious_url'] == 0])"
   ]
  },
  {
   "cell_type": "code",
   "execution_count": 22,
   "metadata": {},
   "outputs": [
    {
     "name": "stdout",
     "output_type": "stream",
     "text": [
      "top ten domain tokens\n",
      "('com', 501)\n",
      "('www', 293)\n",
      "('net', 61)\n",
      "('de', 53)\n",
      "('co', 49)\n",
      "('it', 27)\n",
      "('paypal', 26)\n",
      "('br', 24)\n",
      "('cl', 23)\n",
      "('au', 22)\n"
     ]
    }
   ],
   "source": [
    "top_domain_tokens(df.loc[df['malicious_url'] == 1])"
   ]
  },
  {
   "cell_type": "code",
   "execution_count": 23,
   "metadata": {},
   "outputs": [
    {
     "name": "stdout",
     "output_type": "stream",
     "text": [
      "top ten domain tokens\n",
      "('com', 826)\n",
      "('www', 144)\n",
      "('cn', 113)\n",
      "('jp', 103)\n",
      "('co', 82)\n",
      "('yahoo', 75)\n",
      "('sina', 59)\n",
      "('163', 50)\n",
      "('sohu', 36)\n",
      "('house', 36)\n"
     ]
    }
   ],
   "source": [
    "top_domain_tokens(df.loc[df['malicious_url'] == 0])"
   ]
  },
  {
   "cell_type": "code",
   "execution_count": null,
   "metadata": {},
   "outputs": [],
   "source": []
  }
 ],
 "metadata": {
  "kernelspec": {
   "display_name": "Python 3",
   "language": "python",
   "name": "python3"
  },
  "language_info": {
   "codemirror_mode": {
    "name": "ipython",
    "version": 3
   },
   "file_extension": ".py",
   "mimetype": "text/x-python",
   "name": "python",
   "nbconvert_exporter": "python",
   "pygments_lexer": "ipython3",
   "version": "3.6.3"
  }
 },
 "nbformat": 4,
 "nbformat_minor": 2
}
